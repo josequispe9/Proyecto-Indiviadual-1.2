{
 "cells": [
  {
   "cell_type": "markdown",
   "metadata": {},
   "source": [
    "### Analisis exploratorio de datos"
   ]
  },
  {
   "cell_type": "code",
   "execution_count": 51,
   "metadata": {},
   "outputs": [],
   "source": [
    "import pandas as pd \n",
    "import numpy as np \n",
    "import seaborn as sb\n"
   ]
  },
  {
   "cell_type": "code",
   "execution_count": 52,
   "metadata": {},
   "outputs": [],
   "source": [
    "data = pd.read_parquet(\"df_final.parquet\")"
   ]
  },
  {
   "cell_type": "code",
   "execution_count": 9,
   "metadata": {},
   "outputs": [
    {
     "name": "stdout",
     "output_type": "stream",
     "text": [
      "<class 'pandas.core.frame.DataFrame'>\n",
      "RangeIndex: 45379 entries, 0 to 45378\n",
      "Data columns (total 20 columns):\n",
      " #   Column                 Non-Null Count  Dtype  \n",
      "---  ------                 --------------  -----  \n",
      " 0   budget                 45379 non-null  object \n",
      " 1   id                     45379 non-null  object \n",
      " 2   original_language      45368 non-null  object \n",
      " 3   overview               44438 non-null  object \n",
      " 4   popularity             45377 non-null  object \n",
      " 5   release_date           45376 non-null  object \n",
      " 6   revenue                45379 non-null  float64\n",
      " 7   runtime                45130 non-null  float64\n",
      " 8   status                 45296 non-null  object \n",
      " 9   tagline                20398 non-null  object \n",
      " 10  title                  45376 non-null  object \n",
      " 11  vote_average           45376 non-null  float64\n",
      " 12  vote_count             45376 non-null  float64\n",
      " 13  belongs_to_collection  45379 non-null  object \n",
      " 14  genres                 45379 non-null  object \n",
      " 15  production_companies   45379 non-null  object \n",
      " 16  production_countries   45379 non-null  object \n",
      " 17  spoken_languages       45379 non-null  object \n",
      " 18  release_year           45379 non-null  float64\n",
      " 19  return                 45379 non-null  float64\n",
      "dtypes: float64(6), object(14)\n",
      "memory usage: 6.9+ MB\n"
     ]
    }
   ],
   "source": [
    "data.info()"
   ]
  },
  {
   "cell_type": "code",
   "execution_count": 53,
   "metadata": {},
   "outputs": [],
   "source": [
    "# Eliminamos las columnas que no nos sirven\n",
    "data = data.drop(['budget', 'release_date', 'status', 'vote_count',\n",
    "                  'spoken_languages', 'tagline'], axis=1)"
   ]
  },
  {
   "cell_type": "code",
   "execution_count": 54,
   "metadata": {},
   "outputs": [],
   "source": [
    "data = data.dropna(subset=['overview'])"
   ]
  },
  {
   "cell_type": "code",
   "execution_count": 55,
   "metadata": {},
   "outputs": [
    {
     "name": "stdout",
     "output_type": "stream",
     "text": [
      "<class 'pandas.core.frame.DataFrame'>\n",
      "Index: 44435 entries, 0 to 45375\n",
      "Data columns (total 13 columns):\n",
      " #   Column                Non-Null Count  Dtype  \n",
      "---  ------                --------------  -----  \n",
      " 0   id                    44435 non-null  object \n",
      " 1   original_language     44425 non-null  object \n",
      " 2   overview              44435 non-null  object \n",
      " 3   popularity            44435 non-null  float64\n",
      " 4   revenue               44435 non-null  float64\n",
      " 5   runtime               44435 non-null  float64\n",
      " 6   title                 44435 non-null  object \n",
      " 7   vote_average          44435 non-null  float64\n",
      " 8   genres                44435 non-null  object \n",
      " 9   production_companies  44435 non-null  object \n",
      " 10  production_countries  44435 non-null  object \n",
      " 11  release_year          44435 non-null  float64\n",
      " 12  return                44435 non-null  float64\n",
      "dtypes: float64(6), object(7)\n",
      "memory usage: 4.7+ MB\n"
     ]
    }
   ],
   "source": [
    "data.info()"
   ]
  },
  {
   "cell_type": "markdown",
   "metadata": {},
   "source": [
    "Usaremos las siguientes columnas como filtros para eliminar peliculas no interesantes:\n",
    "* popularity \n",
    "* revenue\n",
    "* vote_average\n",
    "* release_year\n",
    "* original_language\n",
    "* runtime\n",
    "* production_countries"
   ]
  },
  {
   "cell_type": "code",
   "execution_count": 56,
   "metadata": {},
   "outputs": [],
   "source": [
    "data['popularity'] = pd.to_numeric(data['popularity'], errors='coerce')"
   ]
  },
  {
   "cell_type": "code",
   "execution_count": 57,
   "metadata": {},
   "outputs": [],
   "source": [
    "# Eliminamos los valores por debajo de la mediana ya que el histograma tiene sesgo positivo\n",
    "threshold = data['popularity'].median() \n",
    "data = data[data['popularity'] >= threshold]"
   ]
  },
  {
   "cell_type": "code",
   "execution_count": 35,
   "metadata": {},
   "outputs": [
    {
     "data": {
      "text/plain": [
       "original_language\n",
       "en    16725\n",
       "fr     1296\n",
       "ja      692\n",
       "it      534\n",
       "de      405\n",
       "es      371\n",
       "ko      276\n",
       "ru      269\n",
       "hi      242\n",
       "zh      217\n",
       "Name: count, dtype: int64"
      ]
     },
     "execution_count": 35,
     "metadata": {},
     "output_type": "execute_result"
    }
   ],
   "source": [
    "language_counts = data['original_language'].value_counts()\n",
    "language_counts.head(10)"
   ]
  },
  {
   "cell_type": "code",
   "execution_count": null,
   "metadata": {},
   "outputs": [],
   "source": [
    "# Definimos la lista de idiomas que queremos conservar\n",
    "languages_to_keep = ['en', 'es']\n",
    "\n",
    "# Filtramos el dataframe para tener solo las peliculas en ingles y espaniol\n",
    "data = data[data['original_language'].isin(languages_to_keep)]\n"
   ]
  },
  {
   "cell_type": "code",
   "execution_count": 60,
   "metadata": {},
   "outputs": [],
   "source": [
    "# Quitamos las peliculas mas viejas\n",
    "data = data[data['release_year'] >= 1970]"
   ]
  },
  {
   "cell_type": "code",
   "execution_count": 62,
   "metadata": {},
   "outputs": [],
   "source": [
    "# Quitamos las peliculas con menor puntuacion\n",
    "threshold = data['vote_average'].median() \n",
    "data = data[data['popularity'] >= threshold]"
   ]
  },
  {
   "cell_type": "code",
   "execution_count": 63,
   "metadata": {},
   "outputs": [],
   "source": [
    "# Quitamos las peliculas con pocas palabras en el resumen\n",
    "data = data[data['overview'].apply(lambda x: len(str(x).split()) >= 60)]"
   ]
  },
  {
   "cell_type": "code",
   "execution_count": 64,
   "metadata": {},
   "outputs": [
    {
     "name": "stdout",
     "output_type": "stream",
     "text": [
      "<class 'pandas.core.frame.DataFrame'>\n",
      "Index: 2064 entries, 1 to 45098\n",
      "Data columns (total 13 columns):\n",
      " #   Column                Non-Null Count  Dtype  \n",
      "---  ------                --------------  -----  \n",
      " 0   id                    2064 non-null   object \n",
      " 1   original_language     2064 non-null   object \n",
      " 2   overview              2064 non-null   object \n",
      " 3   popularity            2064 non-null   float64\n",
      " 4   revenue               2064 non-null   float64\n",
      " 5   runtime               2064 non-null   float64\n",
      " 6   title                 2064 non-null   object \n",
      " 7   vote_average          2064 non-null   float64\n",
      " 8   genres                2064 non-null   object \n",
      " 9   production_companies  2064 non-null   object \n",
      " 10  production_countries  2064 non-null   object \n",
      " 11  release_year          2064 non-null   float64\n",
      " 12  return                2064 non-null   float64\n",
      "dtypes: float64(6), object(7)\n",
      "memory usage: 225.8+ KB\n"
     ]
    }
   ],
   "source": [
    "data.info()"
   ]
  },
  {
   "cell_type": "code",
   "execution_count": 65,
   "metadata": {},
   "outputs": [],
   "source": [
    "df = data"
   ]
  },
  {
   "cell_type": "code",
   "execution_count": 66,
   "metadata": {},
   "outputs": [],
   "source": [
    "from sklearn.feature_extraction.text import TfidfVectorizer\n",
    "from sklearn.preprocessing import MultiLabelBinarizer, MinMaxScaler\n",
    "import pandas as pd\n",
    "\n",
    "# Supongamos que ya tienes tu DataFrame `df`\n",
    "\n",
    "# Paso 1: Asegúrate de que `overview` esté en formato de texto\n",
    "df['overview'] = df['overview'].apply(lambda x: ' '.join(x) if isinstance(x, list) else x).fillna('')\n",
    "\n",
    "# Paso 2: Convierte las listas en texto para `genres`, `production_companies` y `production_countries`\n",
    "df['genres'] = df['genres'].apply(lambda x: ', '.join(x) if isinstance(x, list) else x)\n",
    "df['production_companies'] = df['production_companies'].apply(lambda x: ', '.join(x) if isinstance(x, list) else x)\n",
    "df['production_countries'] = df['production_countries'].apply(lambda x: ', '.join(x) if isinstance(x, list) else x)\n",
    "\n",
    "# Paso 3: Verifica si las celdas están en formato de texto\n",
    "df['genres'] = df['genres'].astype(str)\n",
    "df['production_companies'] = df['production_companies'].astype(str)\n",
    "df['production_countries'] = df['production_countries'].astype(str)\n",
    "\n",
    "\n",
    "\n",
    "# Vectorización de `overview` usando TF-IDF\n",
    "tfidf = TfidfVectorizer(stop_words='english')\n",
    "tfidf_matrix = tfidf.fit_transform(df['overview'])\n",
    "\n",
    "# Vectorización de `genres` usando MultiLabelBinarizer\n",
    "mlb = MultiLabelBinarizer()\n",
    "genres_matrix = mlb.fit_transform(df['genres'].str.split(', '))\n",
    "\n",
    "# Normalización de `vote_average` y `release_year`\n",
    "scaler = MinMaxScaler()\n",
    "scaled_features = scaler.fit_transform(df[['vote_average', 'release_year']])\n",
    "\n",
    "# Concatenar todas las características en una matriz final\n",
    "from scipy.sparse import hstack\n",
    "feature_matrix = hstack([tfidf_matrix, genres_matrix, scaled_features])\n",
    "\n",
    "# Ahora puedes calcular la similitud del coseno con la matriz final\n",
    "from sklearn.metrics.pairwise import cosine_similarity\n",
    "cosine_sim = cosine_similarity(feature_matrix)\n"
   ]
  },
  {
   "cell_type": "code",
   "execution_count": 67,
   "metadata": {},
   "outputs": [],
   "source": [
    "import pyarrow"
   ]
  },
  {
   "cell_type": "code",
   "execution_count": 75,
   "metadata": {},
   "outputs": [],
   "source": [
    "df.to_parquet(\"peliculas_para_el_modelo2.parquet\", index=False)"
   ]
  },
  {
   "cell_type": "code",
   "execution_count": 68,
   "metadata": {},
   "outputs": [],
   "source": [
    "def get_recommendations(title, df, cosine_sim, top_n=5):\n",
    "    # Obtener el índice de la película que coincide con el título\n",
    "    try:\n",
    "        idx = df[df['title'] == title].index[0]\n",
    "    except IndexError:\n",
    "        return f\"No se encontró la película '{title}' en la base de datos.\"\n",
    "\n",
    "    # Obtener las puntuaciones de similitud de todas las películas con la película dada\n",
    "    sim_scores = list(enumerate(cosine_sim[idx]))\n",
    "\n",
    "    # Ordenar las películas en base a la similitud (de mayor a menor) y seleccionar las top_n\n",
    "    sim_scores = sorted(sim_scores, key=lambda x: x[1], reverse=True)\n",
    "\n",
    "    # Obtener los índices de las películas más similares (excluyendo la misma película)\n",
    "    sim_indices = [i[0] for i in sim_scores[1:top_n+1]]\n",
    "\n",
    "    # Retornar los títulos de las películas recomendadas\n",
    "    recommended_titles = df.iloc[sim_indices]['title'].tolist()\n",
    "    return recommended_titles\n"
   ]
  },
  {
   "cell_type": "code",
   "execution_count": 74,
   "metadata": {},
   "outputs": [
    {
     "ename": "IndexError",
     "evalue": "index 12476 is out of bounds for axis 0 with size 2064",
     "output_type": "error",
     "traceback": [
      "\u001b[1;31m---------------------------------------------------------------------------\u001b[0m",
      "\u001b[1;31mIndexError\u001b[0m                                Traceback (most recent call last)",
      "Cell \u001b[1;32mIn[74], line 2\u001b[0m\n\u001b[0;32m      1\u001b[0m title \u001b[38;5;241m=\u001b[39m \u001b[38;5;124m\"\u001b[39m\u001b[38;5;124mThe Dark Knight\u001b[39m\u001b[38;5;124m\"\u001b[39m\n\u001b[1;32m----> 2\u001b[0m recommendations \u001b[38;5;241m=\u001b[39m \u001b[43mget_recommendations\u001b[49m\u001b[43m(\u001b[49m\u001b[43mtitle\u001b[49m\u001b[43m,\u001b[49m\u001b[43m \u001b[49m\u001b[43mdf\u001b[49m\u001b[43m,\u001b[49m\u001b[43m \u001b[49m\u001b[43mcosine_sim\u001b[49m\u001b[43m)\u001b[49m\n\u001b[0;32m      3\u001b[0m \u001b[38;5;28mprint\u001b[39m(\u001b[38;5;124m\"\u001b[39m\u001b[38;5;124mPelículas recomendadas:\u001b[39m\u001b[38;5;124m\"\u001b[39m, recommendations)\n",
      "Cell \u001b[1;32mIn[68], line 9\u001b[0m, in \u001b[0;36mget_recommendations\u001b[1;34m(title, df, cosine_sim, top_n)\u001b[0m\n\u001b[0;32m      6\u001b[0m     \u001b[38;5;28;01mreturn\u001b[39;00m \u001b[38;5;124mf\u001b[39m\u001b[38;5;124m\"\u001b[39m\u001b[38;5;124mNo se encontró la película \u001b[39m\u001b[38;5;124m'\u001b[39m\u001b[38;5;132;01m{\u001b[39;00mtitle\u001b[38;5;132;01m}\u001b[39;00m\u001b[38;5;124m'\u001b[39m\u001b[38;5;124m en la base de datos.\u001b[39m\u001b[38;5;124m\"\u001b[39m\n\u001b[0;32m      8\u001b[0m \u001b[38;5;66;03m# Obtener las puntuaciones de similitud de todas las películas con la película dada\u001b[39;00m\n\u001b[1;32m----> 9\u001b[0m sim_scores \u001b[38;5;241m=\u001b[39m \u001b[38;5;28mlist\u001b[39m(\u001b[38;5;28menumerate\u001b[39m(\u001b[43mcosine_sim\u001b[49m\u001b[43m[\u001b[49m\u001b[43midx\u001b[49m\u001b[43m]\u001b[49m))\n\u001b[0;32m     11\u001b[0m \u001b[38;5;66;03m# Ordenar las películas en base a la similitud (de mayor a menor) y seleccionar las top_n\u001b[39;00m\n\u001b[0;32m     12\u001b[0m sim_scores \u001b[38;5;241m=\u001b[39m \u001b[38;5;28msorted\u001b[39m(sim_scores, key\u001b[38;5;241m=\u001b[39m\u001b[38;5;28;01mlambda\u001b[39;00m x: x[\u001b[38;5;241m1\u001b[39m], reverse\u001b[38;5;241m=\u001b[39m\u001b[38;5;28;01mTrue\u001b[39;00m)\n",
      "\u001b[1;31mIndexError\u001b[0m: index 12476 is out of bounds for axis 0 with size 2064"
     ]
    }
   ],
   "source": [
    "title = \"The Dark Knight\"\n",
    "recommendations = get_recommendations(title, df, cosine_sim)\n",
    "print(\"Películas recomendadas:\", recommendations)"
   ]
  },
  {
   "cell_type": "code",
   "execution_count": 72,
   "metadata": {},
   "outputs": [
    {
     "data": {
      "text/plain": [
       "1                      Jumanji\n",
       "14            Cutthroat Island\n",
       "20                  Get Shorty\n",
       "22                   Assassins\n",
       "30             Dangerous Minds\n",
       "                 ...          \n",
       "44930           The Dark Tower\n",
       "44947                 Security\n",
       "44980            Dirty Dancing\n",
       "45056                Bedeviled\n",
       "45098    S.W.A.T.: Under Siege\n",
       "Name: title, Length: 2064, dtype: object"
      ]
     },
     "execution_count": 72,
     "metadata": {},
     "output_type": "execute_result"
    }
   ],
   "source": [
    "df['title']"
   ]
  }
 ],
 "metadata": {
  "kernelspec": {
   "display_name": "venv",
   "language": "python",
   "name": "python3"
  },
  "language_info": {
   "codemirror_mode": {
    "name": "ipython",
    "version": 3
   },
   "file_extension": ".py",
   "mimetype": "text/x-python",
   "name": "python",
   "nbconvert_exporter": "python",
   "pygments_lexer": "ipython3",
   "version": "3.10.11"
  }
 },
 "nbformat": 4,
 "nbformat_minor": 2
}
