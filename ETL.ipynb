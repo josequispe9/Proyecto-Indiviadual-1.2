{
 "cells": [
  {
   "cell_type": "code",
   "execution_count": 2,
   "metadata": {},
   "outputs": [],
   "source": [
    "import pandas as pd\n",
    "import numpy as np\n",
    "import ast\n",
    "import datetime as dt"
   ]
  },
  {
   "cell_type": "code",
   "execution_count": 3,
   "metadata": {},
   "outputs": [
    {
     "name": "stderr",
     "output_type": "stream",
     "text": [
      "C:\\Users\\Jose Quispe}\\AppData\\Local\\Temp\\ipykernel_27896\\3727508390.py:1: DtypeWarning: Columns (10) have mixed types. Specify dtype option on import or set low_memory=False.\n",
      "  data = pd.read_csv(\"C:/Users/Jose Quispe}/Desktop/SoyHenry/Proyecto Individual 1/movies_dataset.csv\")\n"
     ]
    }
   ],
   "source": [
    "data = pd.read_csv(\"C:/Users/Jose Quispe}/Desktop/SoyHenry/Proyecto Individual 1/movies_dataset.csv\")"
   ]
  },
  {
   "cell_type": "code",
   "execution_count": 4,
   "metadata": {},
   "outputs": [
    {
     "name": "stdout",
     "output_type": "stream",
     "text": [
      "<class 'pandas.core.frame.DataFrame'>\n",
      "RangeIndex: 45466 entries, 0 to 45465\n",
      "Data columns (total 24 columns):\n",
      " #   Column                 Non-Null Count  Dtype  \n",
      "---  ------                 --------------  -----  \n",
      " 0   adult                  45466 non-null  object \n",
      " 1   belongs_to_collection  4494 non-null   object \n",
      " 2   budget                 45466 non-null  object \n",
      " 3   genres                 45466 non-null  object \n",
      " 4   homepage               7782 non-null   object \n",
      " 5   id                     45466 non-null  object \n",
      " 6   imdb_id                45449 non-null  object \n",
      " 7   original_language      45455 non-null  object \n",
      " 8   original_title         45466 non-null  object \n",
      " 9   overview               44512 non-null  object \n",
      " 10  popularity             45461 non-null  object \n",
      " 11  poster_path            45080 non-null  object \n",
      " 12  production_companies   45463 non-null  object \n",
      " 13  production_countries   45463 non-null  object \n",
      " 14  release_date           45379 non-null  object \n",
      " 15  revenue                45460 non-null  float64\n",
      " 16  runtime                45203 non-null  float64\n",
      " 17  spoken_languages       45460 non-null  object \n",
      " 18  status                 45379 non-null  object \n",
      " 19  tagline                20412 non-null  object \n",
      " 20  title                  45460 non-null  object \n",
      " 21  video                  45460 non-null  object \n",
      " 22  vote_average           45460 non-null  float64\n",
      " 23  vote_count             45460 non-null  float64\n",
      "dtypes: float64(4), object(20)\n",
      "memory usage: 8.3+ MB\n"
     ]
    }
   ],
   "source": [
    "data.info()"
   ]
  },
  {
   "cell_type": "markdown",
   "metadata": {},
   "source": [
    "Transformaciones: Vas a hacer estas, y solo estas, transformaciones a los datos:"
   ]
  },
  {
   "cell_type": "markdown",
   "metadata": {},
   "source": [
    "Algunos campos, como belongs_to_collection, production_companies y otros (ver diccionario de datos) están anidados, esto es o bien tienen un diccionario o una lista como valores en cada fila, ¡deberán desanidarlos para poder y unirlos al dataset de nuevo hacer alguna de las consultas de la API! O bien buscar la manera de acceder a esos datos sin desanidarlos."
   ]
  },
  {
   "cell_type": "code",
   "execution_count": 4,
   "metadata": {},
   "outputs": [],
   "source": [
    "# Funcion para convertir str no vacio a diccionario\n",
    "def convertir_a_dicc(data_str):\n",
    "    if pd.isna(data_str) or not isinstance(data_str, str) or data_str.strip() == \"\":\n",
    "        return []\n",
    "    else:\n",
    "        return ast.literal_eval(data_str)"
   ]
  },
  {
   "cell_type": "code",
   "execution_count": 5,
   "metadata": {},
   "outputs": [],
   "source": [
    "# Convertimos todas las columnas anidadas en diccionarios\n",
    "df_belongs_to_collection = data['belongs_to_collection'].apply(convertir_a_dicc)\n",
    "df_genres = data['genres'].apply(convertir_a_dicc)\n",
    "df_production_companies = data['production_companies'].apply(convertir_a_dicc)\n",
    "df_production_countries = data['production_countries'].apply(convertir_a_dicc)\n",
    "df_spoken_lenguajes = data['spoken_languages'].apply(convertir_a_dicc)"
   ]
  },
  {
   "cell_type": "code",
   "execution_count": 6,
   "metadata": {},
   "outputs": [],
   "source": [
    "# Definimos la función que procesa cada elemento\n",
    "def extraer(x):\n",
    "    if isinstance(x, list):  # Verifica si x es una lista\n",
    "        return [d['name'] for d in x]  # Extrae los nombres\n",
    "    else:\n",
    "        return []  # Retorna lista vacía para otros tipos, como booleanos\n"
   ]
  },
  {
   "cell_type": "code",
   "execution_count": 7,
   "metadata": {},
   "outputs": [],
   "source": [
    "# Nos quedamos solo con los datos que nos importan\n",
    "df_genres = pd.DataFrame(df_genres.apply(extraer))\n",
    "df_production_companies = pd.DataFrame(df_production_companies.apply(extraer))\n",
    "df_production_countries = pd.DataFrame(df_production_countries.apply(extraer))\n",
    "df_spoken_lenguajes = pd.DataFrame(df_spoken_lenguajes.apply(extraer))\n",
    "\n",
    "# df_comedy = df[df['genres'].apply(lambda x: 'Comedy' in x)]\n"
   ]
  },
  {
   "cell_type": "code",
   "execution_count": 8,
   "metadata": {},
   "outputs": [],
   "source": [
    "data = data.drop(columns=['belongs_to_collection', 'genres','production_companies','production_countries','spoken_languages'])"
   ]
  },
  {
   "cell_type": "code",
   "execution_count": 9,
   "metadata": {},
   "outputs": [],
   "source": [
    "# Concatenamos con el dataframe del comienzo\n",
    "\n",
    "df_final = pd.concat([data,\n",
    "                      df_belongs_to_collection, \n",
    "                      df_genres, \n",
    "                      df_production_companies, \n",
    "                      df_production_countries,\n",
    "                      df_spoken_lenguajes], axis=1)"
   ]
  },
  {
   "cell_type": "code",
   "execution_count": 9,
   "metadata": {},
   "outputs": [
    {
     "data": {
      "text/html": [
       "<div>\n",
       "<style scoped>\n",
       "    .dataframe tbody tr th:only-of-type {\n",
       "        vertical-align: middle;\n",
       "    }\n",
       "\n",
       "    .dataframe tbody tr th {\n",
       "        vertical-align: top;\n",
       "    }\n",
       "\n",
       "    .dataframe thead th {\n",
       "        text-align: right;\n",
       "    }\n",
       "</style>\n",
       "<table border=\"1\" class=\"dataframe\">\n",
       "  <thead>\n",
       "    <tr style=\"text-align: right;\">\n",
       "      <th></th>\n",
       "      <th>adult</th>\n",
       "      <th>budget</th>\n",
       "      <th>homepage</th>\n",
       "      <th>id</th>\n",
       "      <th>imdb_id</th>\n",
       "      <th>original_language</th>\n",
       "      <th>original_title</th>\n",
       "      <th>overview</th>\n",
       "      <th>popularity</th>\n",
       "      <th>poster_path</th>\n",
       "      <th>...</th>\n",
       "      <th>tagline</th>\n",
       "      <th>title</th>\n",
       "      <th>video</th>\n",
       "      <th>vote_average</th>\n",
       "      <th>vote_count</th>\n",
       "      <th>belongs_to_collection</th>\n",
       "      <th>genres</th>\n",
       "      <th>production_companies</th>\n",
       "      <th>production_countries</th>\n",
       "      <th>spoken_languages</th>\n",
       "    </tr>\n",
       "  </thead>\n",
       "  <tbody>\n",
       "    <tr>\n",
       "      <th>0</th>\n",
       "      <td>False</td>\n",
       "      <td>30000000</td>\n",
       "      <td>http://toystory.disney.com/toy-story</td>\n",
       "      <td>862</td>\n",
       "      <td>tt0114709</td>\n",
       "      <td>en</td>\n",
       "      <td>Toy Story</td>\n",
       "      <td>Led by Woody, Andy's toys live happily in his ...</td>\n",
       "      <td>21.946943</td>\n",
       "      <td>/rhIRbceoE9lR4veEXuwCC2wARtG.jpg</td>\n",
       "      <td>...</td>\n",
       "      <td>NaN</td>\n",
       "      <td>Toy Story</td>\n",
       "      <td>False</td>\n",
       "      <td>7.7</td>\n",
       "      <td>5415.0</td>\n",
       "      <td>{'id': 10194, 'name': 'Toy Story Collection', ...</td>\n",
       "      <td>[Animation, Comedy, Family]</td>\n",
       "      <td>[Pixar Animation Studios]</td>\n",
       "      <td>[United States of America]</td>\n",
       "      <td>[English]</td>\n",
       "    </tr>\n",
       "  </tbody>\n",
       "</table>\n",
       "<p>1 rows × 24 columns</p>\n",
       "</div>"
      ],
      "text/plain": [
       "   adult    budget                              homepage   id    imdb_id  \\\n",
       "0  False  30000000  http://toystory.disney.com/toy-story  862  tt0114709   \n",
       "\n",
       "  original_language original_title  \\\n",
       "0                en      Toy Story   \n",
       "\n",
       "                                            overview popularity  \\\n",
       "0  Led by Woody, Andy's toys live happily in his ...  21.946943   \n",
       "\n",
       "                        poster_path  ... tagline      title  video  \\\n",
       "0  /rhIRbceoE9lR4veEXuwCC2wARtG.jpg  ...     NaN  Toy Story  False   \n",
       "\n",
       "  vote_average vote_count                              belongs_to_collection  \\\n",
       "0          7.7     5415.0  {'id': 10194, 'name': 'Toy Story Collection', ...   \n",
       "\n",
       "                        genres       production_companies  \\\n",
       "0  [Animation, Comedy, Family]  [Pixar Animation Studios]   \n",
       "\n",
       "         production_countries spoken_languages  \n",
       "0  [United States of America]        [English]  \n",
       "\n",
       "[1 rows x 24 columns]"
      ]
     },
     "execution_count": 9,
     "metadata": {},
     "output_type": "execute_result"
    }
   ],
   "source": [
    "df_final.head(1)"
   ]
  },
  {
   "cell_type": "markdown",
   "metadata": {},
   "source": [
    "Los valores nulos de los campos revenue, budget deben ser rellenados por el número 0."
   ]
  },
  {
   "cell_type": "code",
   "execution_count": 10,
   "metadata": {},
   "outputs": [],
   "source": [
    "df_final['revenue'] = df_final['revenue'].fillna(0)\n",
    "df_final['budget'] = df_final['budget'].fillna(0)"
   ]
  },
  {
   "cell_type": "markdown",
   "metadata": {},
   "source": [
    "Los valores nulos del campo release date deben eliminarse.\n"
   ]
  },
  {
   "cell_type": "code",
   "execution_count": 11,
   "metadata": {},
   "outputs": [],
   "source": [
    "df_final = df_final.dropna(subset=['release_date'])"
   ]
  },
  {
   "cell_type": "markdown",
   "metadata": {},
   "source": [
    "De haber fechas, deberán tener el formato AAAA-mm-dd, además deberán crear la columna release_year donde extraerán el año de la fecha de estreno."
   ]
  },
  {
   "cell_type": "code",
   "execution_count": 12,
   "metadata": {},
   "outputs": [],
   "source": [
    "def convertir_fecha(fecha_str):\n",
    "    try:\n",
    "        # Intentamos convertir a fecha con el formato especificado\n",
    "        return pd.to_datetime(fecha_str, format='%Y-%m-%d', errors='raise')\n",
    "    except (ValueError, TypeError):\n",
    "        # Si falla, devolvemos NaT (valor nulo para fechas)\n",
    "        return pd.NaT"
   ]
  },
  {
   "cell_type": "code",
   "execution_count": 13,
   "metadata": {},
   "outputs": [
    {
     "name": "stderr",
     "output_type": "stream",
     "text": [
      "C:\\Users\\Jose Quispe}\\AppData\\Local\\Temp\\ipykernel_27896\\1882727775.py:8: FutureWarning: A value is trying to be set on a copy of a DataFrame or Series through chained assignment using an inplace method.\n",
      "The behavior will change in pandas 3.0. This inplace method will never work because the intermediate object on which we are setting values always behaves as a copy.\n",
      "\n",
      "For example, when doing 'df[col].method(value, inplace=True)', try using 'df.method({col: value}, inplace=True)' or df[col] = df[col].method(value) instead, to perform the operation inplace on the original object.\n",
      "\n",
      "\n",
      "  df_final['release_year'].fillna(0, inplace=True)\n"
     ]
    }
   ],
   "source": [
    "# Aplicamos la función a la columna 'release_date'\n",
    "df_final['release_date'] = df_final['release_date'].apply(convertir_fecha)\n",
    "\n",
    "# Creamos la columna 'release_year' extrayendo el año, ignorando valores NaT\n",
    "df_final['release_year'] = df_final['release_date'].dt.year\n",
    "\n",
    "# Reemplazar NaT con cero si es necesario en 'release_year'\n",
    "df_final['release_year'].fillna(0, inplace=True)\n"
   ]
  },
  {
   "cell_type": "markdown",
   "metadata": {},
   "source": [
    "Crear la columna con el retorno de inversión, llamada return con los campos revenue y budget, dividiendo estas dos últimas revenue / budget, cuando no hay datos disponibles para calcularlo, deberá tomar el valor 0."
   ]
  },
  {
   "cell_type": "code",
   "execution_count": 14,
   "metadata": {},
   "outputs": [
    {
     "name": "stdout",
     "output_type": "stream",
     "text": [
      "       revenue    budget     return\n",
      "0  373554033.0  30000000  12.451801\n",
      "1  262797249.0  65000000   4.043035\n",
      "2          0.0         0   0.000000\n",
      "3   81452156.0  16000000   5.090760\n",
      "4   76578911.0         0   0.000000\n"
     ]
    }
   ],
   "source": [
    "def calcular_return(row):\n",
    "    try:\n",
    "        budget = float(row['budget'])\n",
    "        revenue = float(row['revenue'])\n",
    "        if budget > 0:\n",
    "            return revenue / budget\n",
    "        else:\n",
    "            return 0\n",
    "    except ValueError:\n",
    "        return 0  # En caso de que no se puedan convertir a números\n",
    "\n",
    "df_final['return'] = df_final.apply(calcular_return, axis=1)\n",
    "\n",
    "print(df_final[['revenue', 'budget', 'return']].head())\n"
   ]
  },
  {
   "cell_type": "markdown",
   "metadata": {},
   "source": [
    "Eliminar las columnas que no serán utilizadas, video,imdb_id,adult,original_title,poster_path y homepage."
   ]
  },
  {
   "cell_type": "code",
   "execution_count": 15,
   "metadata": {},
   "outputs": [],
   "source": [
    "df_final = df_final.drop(columns=['video', 'imdb_id', 'adult', 'original_title', 'poster_path', 'homepage'])"
   ]
  },
  {
   "cell_type": "code",
   "execution_count": 16,
   "metadata": {},
   "outputs": [],
   "source": [
    "import pyarrow"
   ]
  },
  {
   "cell_type": "code",
   "execution_count": 19,
   "metadata": {},
   "outputs": [
    {
     "name": "stderr",
     "output_type": "stream",
     "text": [
      "C:\\Users\\Jose Quispe}\\AppData\\Local\\Temp\\ipykernel_27896\\3536565581.py:2: SettingWithCopyWarning: \n",
      "A value is trying to be set on a copy of a slice from a DataFrame.\n",
      "Try using .loc[row_indexer,col_indexer] = value instead\n",
      "\n",
      "See the caveats in the documentation: https://pandas.pydata.org/pandas-docs/stable/user_guide/indexing.html#returning-a-view-versus-a-copy\n",
      "  df_final['popularity'] = pd.to_numeric(df_final['popularity'], errors='coerce')\n"
     ]
    },
    {
     "name": "stdout",
     "output_type": "stream",
     "text": [
      "Número de valores NaN en 'popularity': 0\n",
      "budget                          object\n",
      "id                              object\n",
      "original_language               object\n",
      "overview                        object\n",
      "popularity                     float64\n",
      "release_date            datetime64[ns]\n",
      "revenue                        float64\n",
      "runtime                        float64\n",
      "status                          object\n",
      "tagline                         object\n",
      "title                           object\n",
      "vote_average                   float64\n",
      "vote_count                     float64\n",
      "genres                          object\n",
      "production_companies            object\n",
      "production_countries            object\n",
      "spoken_languages                object\n",
      "release_year                   float64\n",
      "return                         float64\n",
      "dtype: object\n"
     ]
    }
   ],
   "source": [
    "\n",
    "# Convertir la columna 'popularity' a tipo numérico\n",
    "df_final['popularity'] = pd.to_numeric(df_final['popularity'], errors='coerce')\n",
    "df_final = df_final.drop(columns=['belongs_to_collection'])\n",
    "# Comprobar si hay NaN en la columna 'popularity' y tratar según sea necesario\n",
    "nan_count = df_final['popularity'].isna().sum()\n",
    "print(f\"Número de valores NaN en 'popularity': {nan_count}\")\n",
    "\n",
    "if nan_count > 0:\n",
    "    # Opción 1: Eliminar filas con NaN en 'popularity'\n",
    "    df_final = df_final.dropna(subset=['popularity'])\n",
    "    \n",
    "    # Opción 2: Rellenar NaN con un valor por defecto (por ejemplo, 0)\n",
    "    # df_final['popularity'].fillna(0, inplace=True)\n",
    "\n",
    "# Verificar los tipos de datos antes de guardar\n",
    "print(df_final.dtypes)\n",
    "\n",
    "# Guardar el DataFrame en formato Parquet\n",
    "df_final.to_parquet('df_final.parquet', index=False)"
   ]
  }
 ],
 "metadata": {
  "kernelspec": {
   "display_name": "venv",
   "language": "python",
   "name": "python3"
  },
  "language_info": {
   "codemirror_mode": {
    "name": "ipython",
    "version": 3
   },
   "file_extension": ".py",
   "mimetype": "text/x-python",
   "name": "python",
   "nbconvert_exporter": "python",
   "pygments_lexer": "ipython3",
   "version": "3.10.11"
  }
 },
 "nbformat": 4,
 "nbformat_minor": 2
}
