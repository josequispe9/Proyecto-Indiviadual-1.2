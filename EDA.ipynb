{
 "cells": [
  {
   "cell_type": "markdown",
   "metadata": {},
   "source": [
    "### Analisis exploratorio de datos"
   ]
  },
  {
   "cell_type": "code",
   "execution_count": 2,
   "metadata": {},
   "outputs": [],
   "source": [
    "import pandas as pd \n",
    "import numpy as np \n",
    "import seaborn as sb\n"
   ]
  },
  {
   "cell_type": "code",
   "execution_count": 3,
   "metadata": {},
   "outputs": [
    {
     "name": "stderr",
     "output_type": "stream",
     "text": [
      "C:\\Users\\Jose Quispe}\\AppData\\Local\\Temp\\ipykernel_22744\\1599027352.py:1: DtypeWarning: Columns (4) have mixed types. Specify dtype option on import or set low_memory=False.\n",
      "  data = pd.read_csv(\"df_final.csv\")\n"
     ]
    }
   ],
   "source": [
    "data = pd.read_csv(\"df_final.csv\")"
   ]
  },
  {
   "cell_type": "code",
   "execution_count": 9,
   "metadata": {},
   "outputs": [
    {
     "name": "stdout",
     "output_type": "stream",
     "text": [
      "<class 'pandas.core.frame.DataFrame'>\n",
      "RangeIndex: 45379 entries, 0 to 45378\n",
      "Data columns (total 20 columns):\n",
      " #   Column                 Non-Null Count  Dtype  \n",
      "---  ------                 --------------  -----  \n",
      " 0   budget                 45379 non-null  object \n",
      " 1   id                     45379 non-null  object \n",
      " 2   original_language      45368 non-null  object \n",
      " 3   overview               44438 non-null  object \n",
      " 4   popularity             45377 non-null  object \n",
      " 5   release_date           45376 non-null  object \n",
      " 6   revenue                45379 non-null  float64\n",
      " 7   runtime                45130 non-null  float64\n",
      " 8   status                 45296 non-null  object \n",
      " 9   tagline                20398 non-null  object \n",
      " 10  title                  45376 non-null  object \n",
      " 11  vote_average           45376 non-null  float64\n",
      " 12  vote_count             45376 non-null  float64\n",
      " 13  belongs_to_collection  45379 non-null  object \n",
      " 14  genres                 45379 non-null  object \n",
      " 15  production_companies   45379 non-null  object \n",
      " 16  production_countries   45379 non-null  object \n",
      " 17  spoken_languages       45379 non-null  object \n",
      " 18  release_year           45379 non-null  float64\n",
      " 19  return                 45379 non-null  float64\n",
      "dtypes: float64(6), object(14)\n",
      "memory usage: 6.9+ MB\n"
     ]
    }
   ],
   "source": [
    "data.info()"
   ]
  },
  {
   "cell_type": "code",
   "execution_count": 4,
   "metadata": {},
   "outputs": [],
   "source": [
    "# Eliminamos las columnas que no nos sirven\n",
    "data = data.drop(['budget', 'release_date', 'status', 'vote_count', 'belongs_to_collection',\n",
    "                  'spoken_languages', 'tagline'], axis=1)"
   ]
  },
  {
   "cell_type": "code",
   "execution_count": 5,
   "metadata": {},
   "outputs": [],
   "source": [
    "data = data.dropna(subset=['overview'])"
   ]
  },
  {
   "cell_type": "code",
   "execution_count": 19,
   "metadata": {},
   "outputs": [
    {
     "name": "stdout",
     "output_type": "stream",
     "text": [
      "<class 'pandas.core.frame.DataFrame'>\n",
      "Index: 44438 entries, 0 to 45378\n",
      "Data columns (total 13 columns):\n",
      " #   Column                Non-Null Count  Dtype  \n",
      "---  ------                --------------  -----  \n",
      " 0   id                    44438 non-null  object \n",
      " 1   original_language     44428 non-null  object \n",
      " 2   overview              44438 non-null  object \n",
      " 3   popularity            44436 non-null  object \n",
      " 4   revenue               44438 non-null  float64\n",
      " 5   runtime               44435 non-null  float64\n",
      " 6   title                 44435 non-null  object \n",
      " 7   vote_average          44435 non-null  float64\n",
      " 8   genres                44438 non-null  object \n",
      " 9   production_companies  44438 non-null  object \n",
      " 10  production_countries  44438 non-null  object \n",
      " 11  release_year          44438 non-null  float64\n",
      " 12  return                44438 non-null  float64\n",
      "dtypes: float64(5), object(8)\n",
      "memory usage: 4.7+ MB\n"
     ]
    }
   ],
   "source": [
    "data.info()"
   ]
  },
  {
   "cell_type": "markdown",
   "metadata": {},
   "source": [
    "Usaremos las siguientes columnas como filtros para eliminar peliculas no interesantes:\n",
    "* popularity \n",
    "* revenue\n",
    "* vote_average\n",
    "* release_year\n",
    "* original_language\n",
    "* runtime\n",
    "* production_countries"
   ]
  },
  {
   "cell_type": "code",
   "execution_count": 6,
   "metadata": {},
   "outputs": [],
   "source": [
    "data['popularity'] = pd.to_numeric(data['popularity'], errors='coerce')"
   ]
  },
  {
   "cell_type": "code",
   "execution_count": 7,
   "metadata": {},
   "outputs": [],
   "source": [
    "# Eliminamos los valores por debajo de la mediana ya que el histograma tiene sesgo positivo\n",
    "threshold = data['popularity'].median() \n",
    "data = data[data['popularity'] >= threshold]"
   ]
  },
  {
   "cell_type": "code",
   "execution_count": 56,
   "metadata": {},
   "outputs": [
    {
     "name": "stdout",
     "output_type": "stream",
     "text": [
      "<class 'pandas.core.frame.DataFrame'>\n",
      "Index: 22218 entries, 0 to 45374\n",
      "Data columns (total 13 columns):\n",
      " #   Column                Non-Null Count  Dtype  \n",
      "---  ------                --------------  -----  \n",
      " 0   id                    22218 non-null  object \n",
      " 1   original_language     22217 non-null  object \n",
      " 2   overview              22218 non-null  object \n",
      " 3   popularity            22218 non-null  float64\n",
      " 4   revenue               22218 non-null  float64\n",
      " 5   runtime               22218 non-null  float64\n",
      " 6   title                 22218 non-null  object \n",
      " 7   vote_average          22218 non-null  float64\n",
      " 8   genres                22218 non-null  object \n",
      " 9   production_companies  22218 non-null  object \n",
      " 10  production_countries  22218 non-null  object \n",
      " 11  release_year          22218 non-null  float64\n",
      " 12  return                22218 non-null  float64\n",
      "dtypes: float64(6), object(7)\n",
      "memory usage: 2.4+ MB\n"
     ]
    }
   ],
   "source": [
    "data.info()"
   ]
  },
  {
   "cell_type": "code",
   "execution_count": 174,
   "metadata": {},
   "outputs": [
    {
     "name": "stdout",
     "output_type": "stream",
     "text": [
      "['en' 'fr' 'it' 'fa' 'nl' 'cn' 'ru' 'zh' 'es' 'ja' 'sv' 'sr' 'bn' 'de'\n",
      " 'vi' 'cs' 'da' 'pt' 'no' 'pl' 'el' 'sh' 'xx' 'ko' 'ca' 'fi' 'sk' 'th'\n",
      " 'hu' 'bs' 'hi' 'tr' 'is' 'he' 'ps' 'ab' 'mn' 'zu' 'uk' 'af' 'bo' 'ro'\n",
      " 'nb' 'ar' 'et' 'tl' 'bm' 'bg' 'id' 'ta' 'te' 'sq' 'ku' 'lo' 'ka' 'mk'\n",
      " 'ml' 'lt' 'ne' 'lv' 'sl' 'ky' 'ms' 'ur' 'hr' 'mr' nan]\n"
     ]
    }
   ],
   "source": [
    "print(data['original_language'].unique())"
   ]
  },
  {
   "cell_type": "code",
   "execution_count": 10,
   "metadata": {},
   "outputs": [
    {
     "data": {
      "text/plain": [
       "original_language\n",
       "en    16725\n",
       "fr     1296\n",
       "ja      692\n",
       "it      534\n",
       "de      405\n",
       "es      371\n",
       "ko      276\n",
       "ru      269\n",
       "hi      242\n",
       "zh      217\n",
       "Name: count, dtype: int64"
      ]
     },
     "execution_count": 10,
     "metadata": {},
     "output_type": "execute_result"
    }
   ],
   "source": [
    "language_counts = data['original_language'].value_counts()\n",
    "language_counts.head(10)"
   ]
  },
  {
   "cell_type": "code",
   "execution_count": 9,
   "metadata": {},
   "outputs": [],
   "source": [
    "# Definimos la lista de idiomas que queremos conservar\n",
    "languages_to_keep = ['en', 'fr', 'ja', 'it', 'es', 'ko', 'ru']\n",
    "\n",
    "# Filtramos el dataframe para tener solo las peliculas con los idiomas mas hablados\n",
    "data = data[data['original_language'].isin(languages_to_keep)]\n"
   ]
  },
  {
   "cell_type": "code",
   "execution_count": 176,
   "metadata": {},
   "outputs": [
    {
     "name": "stdout",
     "output_type": "stream",
     "text": [
      "<class 'pandas.core.frame.DataFrame'>\n",
      "Index: 20568 entries, 0 to 45374\n",
      "Data columns (total 13 columns):\n",
      " #   Column                Non-Null Count  Dtype  \n",
      "---  ------                --------------  -----  \n",
      " 0   id                    20568 non-null  object \n",
      " 1   original_language     20568 non-null  object \n",
      " 2   overview              20568 non-null  object \n",
      " 3   popularity            20568 non-null  float64\n",
      " 4   revenue               20568 non-null  float64\n",
      " 5   runtime               20568 non-null  float64\n",
      " 6   title                 20568 non-null  object \n",
      " 7   vote_average          20568 non-null  float64\n",
      " 8   genres                20568 non-null  object \n",
      " 9   production_companies  20568 non-null  object \n",
      " 10  production_countries  20568 non-null  object \n",
      " 11  release_year          20568 non-null  float64\n",
      " 12  return                20568 non-null  float64\n",
      "dtypes: float64(6), object(7)\n",
      "memory usage: 2.2+ MB\n"
     ]
    }
   ],
   "source": [
    "data.info()"
   ]
  },
  {
   "cell_type": "code",
   "execution_count": 13,
   "metadata": {},
   "outputs": [
    {
     "data": {
      "text/plain": [
       "release_year\n",
       "2014.0    1016\n",
       "2013.0     988\n",
       "2015.0     964\n",
       "2012.0     848\n",
       "2016.0     843\n",
       "2011.0     802\n",
       "2009.0     779\n",
       "2008.0     748\n",
       "2010.0     706\n",
       "2006.0     641\n",
       "2007.0     629\n",
       "2005.0     539\n",
       "2004.0     480\n",
       "2002.0     427\n",
       "2003.0     417\n",
       "2001.0     412\n",
       "2000.0     359\n",
       "2017.0     353\n",
       "1999.0     349\n",
       "1998.0     340\n",
       "1996.0     338\n",
       "1997.0     309\n",
       "1995.0     283\n",
       "1994.0     277\n",
       "1993.0     258\n",
       "1988.0     245\n",
       "1991.0     232\n",
       "1992.0     227\n",
       "1990.0     224\n",
       "1987.0     223\n",
       "1989.0     214\n",
       "1985.0     198\n",
       "1986.0     196\n",
       "1984.0     172\n",
       "1983.0     164\n",
       "1982.0     161\n",
       "1981.0     159\n",
       "1980.0     157\n",
       "1973.0     143\n",
       "1971.0     138\n",
       "1972.0     137\n",
       "1978.0     129\n",
       "1979.0     128\n",
       "1974.0     127\n",
       "1966.0     124\n",
       "1975.0     120\n",
       "1976.0     120\n",
       "1977.0     119\n",
       "1970.0     117\n",
       "1967.0     115\n",
       "1968.0     113\n",
       "1964.0     109\n",
       "1969.0     102\n",
       "1965.0      97\n",
       "1959.0      92\n",
       "1962.0      91\n",
       "1960.0      91\n",
       "1963.0      88\n",
       "1957.0      79\n",
       "1955.0      79\n",
       "Name: count, dtype: int64"
      ]
     },
     "execution_count": 13,
     "metadata": {},
     "output_type": "execute_result"
    }
   ],
   "source": [
    "# Obtener el conteo de valores float\n",
    "conteo = data['release_year'].value_counts()\n",
    "\n",
    "conteo.head(60)"
   ]
  },
  {
   "cell_type": "code",
   "execution_count": 10,
   "metadata": {},
   "outputs": [],
   "source": [
    "data = data[data['release_year'] >= 1960]"
   ]
  },
  {
   "cell_type": "code",
   "execution_count": 161,
   "metadata": {},
   "outputs": [
    {
     "name": "stdout",
     "output_type": "stream",
     "text": [
      "<class 'pandas.core.frame.DataFrame'>\n",
      "Index: 18961 entries, 0 to 45374\n",
      "Data columns (total 13 columns):\n",
      " #   Column                Non-Null Count  Dtype  \n",
      "---  ------                --------------  -----  \n",
      " 0   id                    18961 non-null  object \n",
      " 1   original_language     18961 non-null  object \n",
      " 2   overview              18961 non-null  object \n",
      " 3   popularity            18961 non-null  float64\n",
      " 4   revenue               18961 non-null  float64\n",
      " 5   runtime               18961 non-null  float64\n",
      " 6   title                 18961 non-null  object \n",
      " 7   vote_average          18961 non-null  float64\n",
      " 8   genres                18961 non-null  object \n",
      " 9   production_companies  18961 non-null  object \n",
      " 10  production_countries  18961 non-null  object \n",
      " 11  release_year          18961 non-null  float64\n",
      " 12  return                18961 non-null  float64\n",
      "dtypes: float64(6), object(7)\n",
      "memory usage: 2.0+ MB\n"
     ]
    }
   ],
   "source": [
    "data.info()"
   ]
  },
  {
   "cell_type": "code",
   "execution_count": 11,
   "metadata": {},
   "outputs": [],
   "source": [
    "data = data[data['vote_average'] >= 5]"
   ]
  },
  {
   "cell_type": "code",
   "execution_count": 12,
   "metadata": {},
   "outputs": [],
   "source": [
    "data = data[data['overview'].apply(lambda x: len(str(x).split()) >= 50)]\n",
    "data = data[data['overview'].apply(lambda x: len(str(x).split()) <= 200)]"
   ]
  },
  {
   "cell_type": "code",
   "execution_count": 202,
   "metadata": {},
   "outputs": [
    {
     "name": "stdout",
     "output_type": "stream",
     "text": [
      "<class 'pandas.core.frame.DataFrame'>\n",
      "Index: 8277 entries, 0 to 45374\n",
      "Data columns (total 13 columns):\n",
      " #   Column                Non-Null Count  Dtype  \n",
      "---  ------                --------------  -----  \n",
      " 0   id                    8277 non-null   object \n",
      " 1   original_language     8277 non-null   object \n",
      " 2   overview              8277 non-null   object \n",
      " 3   popularity            8277 non-null   float64\n",
      " 4   revenue               8277 non-null   float64\n",
      " 5   runtime               8277 non-null   float64\n",
      " 6   title                 8277 non-null   object \n",
      " 7   vote_average          8277 non-null   float64\n",
      " 8   genres                8277 non-null   object \n",
      " 9   production_companies  8277 non-null   object \n",
      " 10  production_countries  8277 non-null   object \n",
      " 11  release_year          8277 non-null   float64\n",
      " 12  return                8277 non-null   float64\n",
      "dtypes: float64(6), object(7)\n",
      "memory usage: 905.3+ KB\n"
     ]
    }
   ],
   "source": [
    "data.info()"
   ]
  },
  {
   "cell_type": "code",
   "execution_count": 231,
   "metadata": {},
   "outputs": [],
   "source": [
    "data = data[['id', 'title', 'genres', 'overview', 'production_companies', 'original_language']]"
   ]
  },
  {
   "cell_type": "code",
   "execution_count": 13,
   "metadata": {},
   "outputs": [
    {
     "name": "stdout",
     "output_type": "stream",
     "text": [
      "<class 'pandas.core.frame.DataFrame'>\n",
      "Index: 7800 entries, 0 to 45374\n",
      "Data columns (total 13 columns):\n",
      " #   Column                Non-Null Count  Dtype  \n",
      "---  ------                --------------  -----  \n",
      " 0   id                    7800 non-null   object \n",
      " 1   original_language     7800 non-null   object \n",
      " 2   overview              7800 non-null   object \n",
      " 3   popularity            7800 non-null   float64\n",
      " 4   revenue               7800 non-null   float64\n",
      " 5   runtime               7800 non-null   float64\n",
      " 6   title                 7800 non-null   object \n",
      " 7   vote_average          7800 non-null   float64\n",
      " 8   genres                7800 non-null   object \n",
      " 9   production_companies  7800 non-null   object \n",
      " 10  production_countries  7800 non-null   object \n",
      " 11  release_year          7800 non-null   float64\n",
      " 12  return                7800 non-null   float64\n",
      "dtypes: float64(6), object(7)\n",
      "memory usage: 853.1+ KB\n"
     ]
    }
   ],
   "source": [
    "data.info()"
   ]
  },
  {
   "cell_type": "code",
   "execution_count": 14,
   "metadata": {},
   "outputs": [],
   "source": [
    "df = data"
   ]
  },
  {
   "cell_type": "code",
   "execution_count": 15,
   "metadata": {},
   "outputs": [
    {
     "name": "stdout",
     "output_type": "stream",
     "text": [
      "<class 'pandas.core.frame.DataFrame'>\n",
      "Index: 7800 entries, 0 to 45374\n",
      "Data columns (total 13 columns):\n",
      " #   Column                Non-Null Count  Dtype   \n",
      "---  ------                --------------  -----   \n",
      " 0   id                    7800 non-null   object  \n",
      " 1   original_language     7800 non-null   category\n",
      " 2   overview              7800 non-null   object  \n",
      " 3   popularity            7800 non-null   float32 \n",
      " 4   revenue               7800 non-null   float32 \n",
      " 5   runtime               7800 non-null   float32 \n",
      " 6   title                 7800 non-null   object  \n",
      " 7   vote_average          7800 non-null   float32 \n",
      " 8   genres                7800 non-null   category\n",
      " 9   production_companies  7800 non-null   category\n",
      " 10  production_countries  7800 non-null   category\n",
      " 11  release_year          7800 non-null   int16   \n",
      " 12  return                7800 non-null   float32 \n",
      "dtypes: category(4), float32(5), int16(1), object(3)\n",
      "memory usage: 6.8 MB\n",
      "None\n"
     ]
    }
   ],
   "source": [
    "\n",
    "# Convertir columnas numéricas a tipos más eficientes\n",
    "df['popularity'] = df['popularity'].astype('float32')\n",
    "df['revenue'] = df['revenue'].astype('float32')\n",
    "df['runtime'] = df['runtime'].astype('float32')\n",
    "df['vote_average'] = df['vote_average'].astype('float32')\n",
    "df['release_year'] = df['release_year'].astype('int16')  # Si los años están entre 1900 y 2100\n",
    "df['return'] = df['return'].astype('float32')\n",
    "\n",
    "# Convertir columnas de texto a categóricas\n",
    "df['original_language'] = df['original_language'].astype('category')\n",
    "df['genres'] = df['genres'].astype('category')\n",
    "df['production_companies'] = df['production_companies'].astype('category')\n",
    "df['production_countries'] = df['production_countries'].astype('category')\n",
    "\n",
    "# Opcional: Eliminar columnas innecesarias si es posible\n",
    "# df.drop(columns=['id'], inplace=True)  # Ejemplo de eliminación de columna\n",
    "\n",
    "# Verificar el uso de memoria después de las optimizaciones\n",
    "print(df.info(memory_usage='deep'))\n"
   ]
  },
  {
   "cell_type": "code",
   "execution_count": 91,
   "metadata": {},
   "outputs": [
    {
     "data": {
      "text/html": [
       "<div>\n",
       "<style scoped>\n",
       "    .dataframe tbody tr th:only-of-type {\n",
       "        vertical-align: middle;\n",
       "    }\n",
       "\n",
       "    .dataframe tbody tr th {\n",
       "        vertical-align: top;\n",
       "    }\n",
       "\n",
       "    .dataframe thead th {\n",
       "        text-align: right;\n",
       "    }\n",
       "</style>\n",
       "<table border=\"1\" class=\"dataframe\">\n",
       "  <thead>\n",
       "    <tr style=\"text-align: right;\">\n",
       "      <th></th>\n",
       "      <th>id</th>\n",
       "      <th>title</th>\n",
       "      <th>genres</th>\n",
       "      <th>overview</th>\n",
       "      <th>production_companies</th>\n",
       "      <th>original_language</th>\n",
       "    </tr>\n",
       "  </thead>\n",
       "  <tbody>\n",
       "    <tr>\n",
       "      <th>0</th>\n",
       "      <td>862</td>\n",
       "      <td>Toy Story</td>\n",
       "      <td>['Animation', 'Comedy', 'Family']</td>\n",
       "      <td>Led by Woody, Andy's toys live happily in his ...</td>\n",
       "      <td>['Pixar Animation Studios']</td>\n",
       "      <td>en</td>\n",
       "    </tr>\n",
       "  </tbody>\n",
       "</table>\n",
       "</div>"
      ],
      "text/plain": [
       "    id      title                             genres  \\\n",
       "0  862  Toy Story  ['Animation', 'Comedy', 'Family']   \n",
       "\n",
       "                                            overview  \\\n",
       "0  Led by Woody, Andy's toys live happily in his ...   \n",
       "\n",
       "          production_companies original_language  \n",
       "0  ['Pixar Animation Studios']                en  "
      ]
     },
     "execution_count": 91,
     "metadata": {},
     "output_type": "execute_result"
    }
   ],
   "source": [
    "# Vamos a hacer un tag con las columnas genres, overview, production_companies y original_language\n",
    "data.head(1)"
   ]
  },
  {
   "cell_type": "code",
   "execution_count": 232,
   "metadata": {},
   "outputs": [
    {
     "name": "stderr",
     "output_type": "stream",
     "text": [
      "C:\\Users\\Jose Quispe}\\AppData\\Local\\Temp\\ipykernel_23464\\2153982902.py:1: SettingWithCopyWarning: \n",
      "A value is trying to be set on a copy of a slice from a DataFrame.\n",
      "Try using .loc[row_indexer,col_indexer] = value instead\n",
      "\n",
      "See the caveats in the documentation: https://pandas.pydata.org/pandas-docs/stable/user_guide/indexing.html#returning-a-view-versus-a-copy\n",
      "  data['overview']  = data['overview'].apply(lambda x: x.split())\n"
     ]
    }
   ],
   "source": [
    "data['overview']  = data['overview'].apply(lambda x: x.split())"
   ]
  },
  {
   "cell_type": "code",
   "execution_count": 42,
   "metadata": {},
   "outputs": [
    {
     "data": {
      "text/html": [
       "<div>\n",
       "<style scoped>\n",
       "    .dataframe tbody tr th:only-of-type {\n",
       "        vertical-align: middle;\n",
       "    }\n",
       "\n",
       "    .dataframe tbody tr th {\n",
       "        vertical-align: top;\n",
       "    }\n",
       "\n",
       "    .dataframe thead th {\n",
       "        text-align: right;\n",
       "    }\n",
       "</style>\n",
       "<table border=\"1\" class=\"dataframe\">\n",
       "  <thead>\n",
       "    <tr style=\"text-align: right;\">\n",
       "      <th></th>\n",
       "      <th>id</th>\n",
       "      <th>title</th>\n",
       "      <th>genres</th>\n",
       "      <th>overview</th>\n",
       "      <th>production_companies</th>\n",
       "      <th>original_language</th>\n",
       "    </tr>\n",
       "  </thead>\n",
       "  <tbody>\n",
       "    <tr>\n",
       "      <th>0</th>\n",
       "      <td>862</td>\n",
       "      <td>Toy Story</td>\n",
       "      <td>['Animation', 'Comedy', 'Family']</td>\n",
       "      <td>[Led, by, Woody,, Andy's, toys, live, happily,...</td>\n",
       "      <td>['Pixar Animation Studios']</td>\n",
       "      <td>en</td>\n",
       "    </tr>\n",
       "  </tbody>\n",
       "</table>\n",
       "</div>"
      ],
      "text/plain": [
       "    id      title                             genres  \\\n",
       "0  862  Toy Story  ['Animation', 'Comedy', 'Family']   \n",
       "\n",
       "                                            overview  \\\n",
       "0  [Led, by, Woody,, Andy's, toys, live, happily,...   \n",
       "\n",
       "          production_companies original_language  \n",
       "0  ['Pixar Animation Studios']                en  "
      ]
     },
     "execution_count": 42,
     "metadata": {},
     "output_type": "execute_result"
    }
   ],
   "source": [
    "data.head(1)"
   ]
  },
  {
   "cell_type": "code",
   "execution_count": 233,
   "metadata": {},
   "outputs": [],
   "source": [
    "def collapse(L):\n",
    "    lista = []\n",
    "    for i in L:\n",
    "        lista.append(i.replace(\" \",\"\"))\n",
    "    return lista"
   ]
  },
  {
   "cell_type": "code",
   "execution_count": 234,
   "metadata": {},
   "outputs": [
    {
     "name": "stderr",
     "output_type": "stream",
     "text": [
      "C:\\Users\\Jose Quispe}\\AppData\\Local\\Temp\\ipykernel_23464\\1142135941.py:3: SettingWithCopyWarning: \n",
      "A value is trying to be set on a copy of a slice from a DataFrame.\n",
      "Try using .loc[row_indexer,col_indexer] = value instead\n",
      "\n",
      "See the caveats in the documentation: https://pandas.pydata.org/pandas-docs/stable/user_guide/indexing.html#returning-a-view-versus-a-copy\n",
      "  data['genres'] = data['genres'].apply(ast.literal_eval)\n",
      "C:\\Users\\Jose Quispe}\\AppData\\Local\\Temp\\ipykernel_23464\\1142135941.py:4: SettingWithCopyWarning: \n",
      "A value is trying to be set on a copy of a slice from a DataFrame.\n",
      "Try using .loc[row_indexer,col_indexer] = value instead\n",
      "\n",
      "See the caveats in the documentation: https://pandas.pydata.org/pandas-docs/stable/user_guide/indexing.html#returning-a-view-versus-a-copy\n",
      "  data['production_companies'] = data['production_companies'].apply(ast.literal_eval)\n"
     ]
    }
   ],
   "source": [
    "import ast\n",
    "\n",
    "data['genres'] = data['genres'].apply(ast.literal_eval)\n",
    "data['production_companies'] = data['production_companies'].apply(ast.literal_eval)"
   ]
  },
  {
   "cell_type": "code",
   "execution_count": 235,
   "metadata": {},
   "outputs": [
    {
     "name": "stderr",
     "output_type": "stream",
     "text": [
      "C:\\Users\\Jose Quispe}\\AppData\\Local\\Temp\\ipykernel_23464\\971822252.py:1: SettingWithCopyWarning: \n",
      "A value is trying to be set on a copy of a slice from a DataFrame.\n",
      "Try using .loc[row_indexer,col_indexer] = value instead\n",
      "\n",
      "See the caveats in the documentation: https://pandas.pydata.org/pandas-docs/stable/user_guide/indexing.html#returning-a-view-versus-a-copy\n",
      "  data['genres'] = data['genres'].apply(collapse)\n",
      "C:\\Users\\Jose Quispe}\\AppData\\Local\\Temp\\ipykernel_23464\\971822252.py:2: SettingWithCopyWarning: \n",
      "A value is trying to be set on a copy of a slice from a DataFrame.\n",
      "Try using .loc[row_indexer,col_indexer] = value instead\n",
      "\n",
      "See the caveats in the documentation: https://pandas.pydata.org/pandas-docs/stable/user_guide/indexing.html#returning-a-view-versus-a-copy\n",
      "  data['production_companies'] = data['production_companies'].apply(collapse)\n"
     ]
    }
   ],
   "source": [
    "data['genres'] = data['genres'].apply(collapse)\n",
    "data['production_companies'] = data['production_companies'].apply(collapse)\n"
   ]
  },
  {
   "cell_type": "code",
   "execution_count": 119,
   "metadata": {},
   "outputs": [
    {
     "data": {
      "text/html": [
       "<div>\n",
       "<style scoped>\n",
       "    .dataframe tbody tr th:only-of-type {\n",
       "        vertical-align: middle;\n",
       "    }\n",
       "\n",
       "    .dataframe tbody tr th {\n",
       "        vertical-align: top;\n",
       "    }\n",
       "\n",
       "    .dataframe thead th {\n",
       "        text-align: right;\n",
       "    }\n",
       "</style>\n",
       "<table border=\"1\" class=\"dataframe\">\n",
       "  <thead>\n",
       "    <tr style=\"text-align: right;\">\n",
       "      <th></th>\n",
       "      <th>id</th>\n",
       "      <th>original_language</th>\n",
       "      <th>overview</th>\n",
       "      <th>popularity</th>\n",
       "      <th>revenue</th>\n",
       "      <th>runtime</th>\n",
       "      <th>title</th>\n",
       "      <th>vote_average</th>\n",
       "      <th>genres</th>\n",
       "      <th>production_companies</th>\n",
       "      <th>production_countries</th>\n",
       "      <th>release_year</th>\n",
       "      <th>return</th>\n",
       "    </tr>\n",
       "  </thead>\n",
       "  <tbody>\n",
       "    <tr>\n",
       "      <th>0</th>\n",
       "      <td>862</td>\n",
       "      <td>en</td>\n",
       "      <td>[Led, by, Woody,, Andy's, toys, live, happily,...</td>\n",
       "      <td>21.946943</td>\n",
       "      <td>373554033.0</td>\n",
       "      <td>81.0</td>\n",
       "      <td>Toy Story</td>\n",
       "      <td>7.7</td>\n",
       "      <td>[Animation, Comedy, Family]</td>\n",
       "      <td>[PixarAnimationStudios]</td>\n",
       "      <td>['United States of America']</td>\n",
       "      <td>1995.0</td>\n",
       "      <td>12.451801</td>\n",
       "    </tr>\n",
       "  </tbody>\n",
       "</table>\n",
       "</div>"
      ],
      "text/plain": [
       "    id original_language                                           overview  \\\n",
       "0  862                en  [Led, by, Woody,, Andy's, toys, live, happily,...   \n",
       "\n",
       "   popularity      revenue  runtime      title  vote_average  \\\n",
       "0   21.946943  373554033.0     81.0  Toy Story           7.7   \n",
       "\n",
       "                        genres     production_companies  \\\n",
       "0  [Animation, Comedy, Family]  [PixarAnimationStudios]   \n",
       "\n",
       "           production_countries  release_year     return  \n",
       "0  ['United States of America']        1995.0  12.451801  "
      ]
     },
     "execution_count": 119,
     "metadata": {},
     "output_type": "execute_result"
    }
   ],
   "source": [
    "data.head(1)"
   ]
  },
  {
   "cell_type": "code",
   "execution_count": 236,
   "metadata": {},
   "outputs": [
    {
     "name": "stderr",
     "output_type": "stream",
     "text": [
      "C:\\Users\\Jose Quispe}\\AppData\\Local\\Temp\\ipykernel_23464\\703194475.py:2: SettingWithCopyWarning: \n",
      "A value is trying to be set on a copy of a slice from a DataFrame.\n",
      "Try using .loc[row_indexer,col_indexer] = value instead\n",
      "\n",
      "See the caveats in the documentation: https://pandas.pydata.org/pandas-docs/stable/user_guide/indexing.html#returning-a-view-versus-a-copy\n",
      "  data['tags'] = data['overview']\n"
     ]
    }
   ],
   "source": [
    "#data['tags'] = data['genres'] + data['overview'] + data['production_companies'] \n",
    "data['tags'] = data['overview']"
   ]
  },
  {
   "cell_type": "code",
   "execution_count": 237,
   "metadata": {},
   "outputs": [
    {
     "data": {
      "text/plain": [
       "0        [Led, by, Woody,, Andy's, toys, live, happily,...\n",
       "1        [When, siblings, Judy, and, Peter, discover, a...\n",
       "2        [A, family, wedding, reignites, the, ancient, ...\n",
       "4        [Just, when, George, Banks, has, recovered, fr...\n",
       "5        [Obsessive, master, thief,, Neil, McCauley, le...\n",
       "                               ...                        \n",
       "45331    [In, this, family-friendly, action, reboot, of...\n",
       "45337    [In, her, filthy, cell, in, Newgate, prison, M...\n",
       "45341    [The, Sublet, is, a, suspense, driven, psychol...\n",
       "45363    [It's, Halloween, in, the, 100, Acre, Wood,, a...\n",
       "45374    [Yet, another, version, of, the, classic, epic...\n",
       "Name: tags, Length: 8277, dtype: object"
      ]
     },
     "execution_count": 237,
     "metadata": {},
     "output_type": "execute_result"
    }
   ],
   "source": [
    "data['tags']"
   ]
  },
  {
   "cell_type": "code",
   "execution_count": 238,
   "metadata": {},
   "outputs": [],
   "source": [
    "data = data[['id', 'title', 'tags']]"
   ]
  },
  {
   "cell_type": "code",
   "execution_count": 96,
   "metadata": {},
   "outputs": [
    {
     "data": {
      "text/html": [
       "<div>\n",
       "<style scoped>\n",
       "    .dataframe tbody tr th:only-of-type {\n",
       "        vertical-align: middle;\n",
       "    }\n",
       "\n",
       "    .dataframe tbody tr th {\n",
       "        vertical-align: top;\n",
       "    }\n",
       "\n",
       "    .dataframe thead th {\n",
       "        text-align: right;\n",
       "    }\n",
       "</style>\n",
       "<table border=\"1\" class=\"dataframe\">\n",
       "  <thead>\n",
       "    <tr style=\"text-align: right;\">\n",
       "      <th></th>\n",
       "      <th>id</th>\n",
       "      <th>title</th>\n",
       "      <th>tags</th>\n",
       "    </tr>\n",
       "  </thead>\n",
       "  <tbody>\n",
       "    <tr>\n",
       "      <th>0</th>\n",
       "      <td>862</td>\n",
       "      <td>Toy Story</td>\n",
       "      <td>[Led, by, Woody,, Andy's, toys, live, happily,...</td>\n",
       "    </tr>\n",
       "  </tbody>\n",
       "</table>\n",
       "</div>"
      ],
      "text/plain": [
       "    id      title                                               tags\n",
       "0  862  Toy Story  [Led, by, Woody,, Andy's, toys, live, happily,..."
      ]
     },
     "execution_count": 96,
     "metadata": {},
     "output_type": "execute_result"
    }
   ],
   "source": [
    "data.head(1)"
   ]
  },
  {
   "cell_type": "code",
   "execution_count": 239,
   "metadata": {},
   "outputs": [],
   "source": [
    "data['tags'] = data['tags'].apply(lambda x:\" \".join(x))"
   ]
  },
  {
   "cell_type": "code",
   "execution_count": 240,
   "metadata": {},
   "outputs": [
    {
     "data": {
      "text/html": [
       "<div>\n",
       "<style scoped>\n",
       "    .dataframe tbody tr th:only-of-type {\n",
       "        vertical-align: middle;\n",
       "    }\n",
       "\n",
       "    .dataframe tbody tr th {\n",
       "        vertical-align: top;\n",
       "    }\n",
       "\n",
       "    .dataframe thead th {\n",
       "        text-align: right;\n",
       "    }\n",
       "</style>\n",
       "<table border=\"1\" class=\"dataframe\">\n",
       "  <thead>\n",
       "    <tr style=\"text-align: right;\">\n",
       "      <th></th>\n",
       "      <th>id</th>\n",
       "      <th>title</th>\n",
       "      <th>tags</th>\n",
       "    </tr>\n",
       "  </thead>\n",
       "  <tbody>\n",
       "    <tr>\n",
       "      <th>0</th>\n",
       "      <td>862</td>\n",
       "      <td>Toy Story</td>\n",
       "      <td>Led by Woody, Andy's toys live happily in his ...</td>\n",
       "    </tr>\n",
       "    <tr>\n",
       "      <th>1</th>\n",
       "      <td>8844</td>\n",
       "      <td>Jumanji</td>\n",
       "      <td>When siblings Judy and Peter discover an encha...</td>\n",
       "    </tr>\n",
       "  </tbody>\n",
       "</table>\n",
       "</div>"
      ],
      "text/plain": [
       "     id      title                                               tags\n",
       "0   862  Toy Story  Led by Woody, Andy's toys live happily in his ...\n",
       "1  8844    Jumanji  When siblings Judy and Peter discover an encha..."
      ]
     },
     "execution_count": 240,
     "metadata": {},
     "output_type": "execute_result"
    }
   ],
   "source": [
    "data.head(2)"
   ]
  },
  {
   "cell_type": "code",
   "execution_count": null,
   "metadata": {},
   "outputs": [],
   "source": [
    "#data.to_csv(\"peliculas_para_el_modelo.csv\", index=False)"
   ]
  },
  {
   "cell_type": "code",
   "execution_count": 241,
   "metadata": {},
   "outputs": [],
   "source": [
    "from sklearn.feature_extraction.text import CountVectorizer\n",
    "\n",
    "cv = CountVectorizer(max_features=5000, stop_words='english')"
   ]
  },
  {
   "cell_type": "code",
   "execution_count": 242,
   "metadata": {},
   "outputs": [],
   "source": [
    "vector = cv.fit_transform(data['tags']).toarray()"
   ]
  },
  {
   "cell_type": "code",
   "execution_count": 63,
   "metadata": {},
   "outputs": [
    {
     "data": {
      "text/plain": [
       "(15431, 5000)"
      ]
     },
     "execution_count": 63,
     "metadata": {},
     "output_type": "execute_result"
    }
   ],
   "source": [
    "vector.shape"
   ]
  },
  {
   "cell_type": "code",
   "execution_count": 243,
   "metadata": {},
   "outputs": [],
   "source": [
    "from sklearn.metrics.pairwise import cosine_similarity\n",
    "\n",
    "similarity = cosine_similarity(vector)"
   ]
  },
  {
   "cell_type": "code",
   "execution_count": 102,
   "metadata": {},
   "outputs": [
    {
     "data": {
      "text/plain": [
       "array([[1.        , 0.02597622, 0.        , ..., 0.        , 0.        ,\n",
       "        0.        ],\n",
       "       [0.02597622, 1.        , 0.06131393, ..., 0.        , 0.        ,\n",
       "        0.        ],\n",
       "       [0.        , 0.06131393, 1.        , ..., 0.        , 0.06579517,\n",
       "        0.        ],\n",
       "       ...,\n",
       "       [0.        , 0.        , 0.        , ..., 1.        , 0.05248639,\n",
       "        0.        ],\n",
       "       [0.        , 0.        , 0.06579517, ..., 0.05248639, 1.        ,\n",
       "        0.07597372],\n",
       "       [0.        , 0.        , 0.        , ..., 0.        , 0.07597372,\n",
       "        1.        ]])"
      ]
     },
     "execution_count": 102,
     "metadata": {},
     "output_type": "execute_result"
    }
   ],
   "source": [
    "similarity"
   ]
  },
  {
   "cell_type": "code",
   "execution_count": 244,
   "metadata": {},
   "outputs": [],
   "source": [
    "def recomendar(pelicula):\n",
    "    index = data[data['title'] == pelicula].index[0]\n",
    "\n",
    "    distancias = sorted(list(enumerate(similarity[index])), reverse=True, key=lambda x:x[1])\n",
    "\n",
    "    for i in distancias[1:6]:\n",
    "        print(data.iloc[i[0]].title)"
   ]
  },
  {
   "cell_type": "code",
   "execution_count": 245,
   "metadata": {},
   "outputs": [
    {
     "name": "stdout",
     "output_type": "stream",
     "text": [
      "Table No. 21\n",
      "Beta Test\n",
      "Brainscan\n",
      "Wreck-It Ralph\n",
      "Nirvana\n"
     ]
    }
   ],
   "source": [
    "recomendar('Jumanji')"
   ]
  },
  {
   "cell_type": "code",
   "execution_count": 203,
   "metadata": {},
   "outputs": [],
   "source": [
    "df = data"
   ]
  },
  {
   "cell_type": "code",
   "execution_count": null,
   "metadata": {},
   "outputs": [],
   "source": [
    "from sklearn.feature_extraction.text import TfidfVectorizer\n",
    "from sklearn.preprocessing import MultiLabelBinarizer, MinMaxScaler\n",
    "import pandas as pd\n",
    "\n",
    "# Supongamos que ya tienes tu DataFrame `df`\n",
    "\n",
    "# Paso 1: Asegúrate de que `overview` esté en formato de texto\n",
    "df['overview'] = df['overview'].apply(lambda x: ' '.join(x) if isinstance(x, list) else x).fillna('')\n",
    "\n",
    "# Paso 2: Convierte las listas en texto para `genres`, `production_companies` y `production_countries`\n",
    "df['genres'] = df['genres'].apply(lambda x: ', '.join(x) if isinstance(x, list) else x)\n",
    "df['production_companies'] = df['production_companies'].apply(lambda x: ', '.join(x) if isinstance(x, list) else x)\n",
    "df['production_countries'] = df['production_countries'].apply(lambda x: ', '.join(x) if isinstance(x, list) else x)\n",
    "\n",
    "# Paso 3: Verifica si las celdas están en formato de texto\n",
    "df['genres'] = df['genres'].astype(str)\n",
    "df['production_companies'] = df['production_companies'].astype(str)\n",
    "df['production_countries'] = df['production_countries'].astype(str)\n",
    "\n",
    "\n",
    "\n",
    "# Vectorización de `overview` usando TF-IDF\n",
    "tfidf = TfidfVectorizer(stop_words='english')\n",
    "tfidf_matrix = tfidf.fit_transform(df['overview'])\n",
    "\n",
    "# Vectorización de `genres` usando MultiLabelBinarizer\n",
    "mlb = MultiLabelBinarizer()\n",
    "genres_matrix = mlb.fit_transform(df['genres'].str.split(', '))\n",
    "\n",
    "# Normalización de `vote_average` y `release_year`\n",
    "scaler = MinMaxScaler()\n",
    "scaled_features = scaler.fit_transform(df[['vote_average', 'release_year']])\n",
    "\n",
    "# Concatenar todas las características en una matriz final\n",
    "from scipy.sparse import hstack\n",
    "feature_matrix = hstack([tfidf_matrix, genres_matrix, scaled_features])\n",
    "\n",
    "# Ahora puedes calcular la similitud del coseno con la matriz final\n",
    "from sklearn.metrics.pairwise import cosine_similarity\n",
    "cosine_sim = cosine_similarity(feature_matrix)\n"
   ]
  },
  {
   "cell_type": "code",
   "execution_count": 16,
   "metadata": {},
   "outputs": [],
   "source": [
    "df.to_csv(\"peliculas_para_el_modelo2.csv\")"
   ]
  },
  {
   "cell_type": "code",
   "execution_count": 206,
   "metadata": {},
   "outputs": [],
   "source": [
    "def get_recommendations(title, df, cosine_sim, top_n=5):\n",
    "    # Obtener el índice de la película que coincide con el título\n",
    "    try:\n",
    "        idx = df[df['title'] == title].index[0]\n",
    "    except IndexError:\n",
    "        return f\"No se encontró la película '{title}' en la base de datos.\"\n",
    "\n",
    "    # Obtener las puntuaciones de similitud de todas las películas con la película dada\n",
    "    sim_scores = list(enumerate(cosine_sim[idx]))\n",
    "\n",
    "    # Ordenar las películas en base a la similitud (de mayor a menor) y seleccionar las top_n\n",
    "    sim_scores = sorted(sim_scores, key=lambda x: x[1], reverse=True)\n",
    "\n",
    "    # Obtener los índices de las películas más similares (excluyendo la misma película)\n",
    "    sim_indices = [i[0] for i in sim_scores[1:top_n+1]]\n",
    "\n",
    "    # Retornar los títulos de las películas recomendadas\n",
    "    recommended_titles = df.iloc[sim_indices]['title'].tolist()\n",
    "    return recommended_titles\n"
   ]
  },
  {
   "cell_type": "code",
   "execution_count": 247,
   "metadata": {},
   "outputs": [
    {
     "name": "stdout",
     "output_type": "stream",
     "text": [
      "Películas recomendadas: ['Peter Pan', 'Neverland', \"Harry Potter and the Philosopher's Stone\", 'Jack the Giant Killer', 'Hook']\n"
     ]
    }
   ],
   "source": [
    "title = \"Jumanji\"\n",
    "recommendations = get_recommendations(title, df, cosine_sim)\n",
    "print(\"Películas recomendadas:\", recommendations)"
   ]
  },
  {
   "cell_type": "code",
   "execution_count": 217,
   "metadata": {},
   "outputs": [
    {
     "data": {
      "text/plain": [
       "0                                            Toy Story\n",
       "1                                              Jumanji\n",
       "2                                     Grumpier Old Men\n",
       "4                          Father of the Bride Part II\n",
       "5                                                 Heat\n",
       "                             ...                      \n",
       "45331                      Cop and a Half: New Recruit\n",
       "45337    The Fortunes and Misfortunes of Moll Flanders\n",
       "45341                                       The Sublet\n",
       "45363                 Pooh's Heffalump Halloween Movie\n",
       "45374                                       Robin Hood\n",
       "Name: title, Length: 8277, dtype: object"
      ]
     },
     "execution_count": 217,
     "metadata": {},
     "output_type": "execute_result"
    }
   ],
   "source": [
    "data['title']"
   ]
  },
  {
   "cell_type": "code",
   "execution_count": 1,
   "metadata": {},
   "outputs": [
    {
     "ename": "NameError",
     "evalue": "name 'df' is not defined",
     "output_type": "error",
     "traceback": [
      "\u001b[1;31m---------------------------------------------------------------------------\u001b[0m",
      "\u001b[1;31mNameError\u001b[0m                                 Traceback (most recent call last)",
      "Cell \u001b[1;32mIn[1], line 1\u001b[0m\n\u001b[1;32m----> 1\u001b[0m \u001b[43mdf\u001b[49m\u001b[38;5;241m.\u001b[39minfo()\n",
      "\u001b[1;31mNameError\u001b[0m: name 'df' is not defined"
     ]
    }
   ],
   "source": [
    "df.info()"
   ]
  }
 ],
 "metadata": {
  "kernelspec": {
   "display_name": "venv",
   "language": "python",
   "name": "python3"
  },
  "language_info": {
   "codemirror_mode": {
    "name": "ipython",
    "version": 3
   },
   "file_extension": ".py",
   "mimetype": "text/x-python",
   "name": "python",
   "nbconvert_exporter": "python",
   "pygments_lexer": "ipython3",
   "version": "3.10.11"
  }
 },
 "nbformat": 4,
 "nbformat_minor": 2
}
